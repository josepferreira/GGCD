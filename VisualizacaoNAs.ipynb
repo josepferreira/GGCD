{
 "cells": [
  {
   "cell_type": "code",
   "execution_count": 6,
   "metadata": {
    "collapsed": true
   },
   "outputs": [
    {
     "name": "stdout",
     "output_type": "stream",
     "text": [
      "0\n",
      "1\n",
      "2\n",
      "3\n",
      "4\n",
      "5\n",
      "6\n",
      "7\n",
      "8\n",
      "9\n",
      "10\n",
      "11\n",
      "12\n",
      "13\n",
      "14\n"
     ]
    }
   ],
   "source": [
    "import pandas as pd\n",
    "novo = None\n",
    "i=0\n",
    "for ds in pd.read_csv('./2008.csv',low_memory=False,chunksize=500000):\n",
    "    if novo is None:\n",
    "        novo = ds.isna().sum()\n",
    "    else:\n",
    "        novo += ds.isna().sum()\n",
    "    print(i)\n",
    "    i+=1"
   ]
  },
  {
   "cell_type": "code",
   "execution_count": 7,
   "metadata": {},
   "outputs": [
    {
     "data": {
      "text/plain": [
       "CancellationCode     0.980394\n",
       "LateAircraftDelay    0.782483\n",
       "SecurityDelay        0.782483\n",
       "NASDelay             0.782483\n",
       "WeatherDelay         0.782483\n",
       "CarrierDelay         0.782483\n",
       "ActualElapsedTime    0.022069\n",
       "AirTime              0.022069\n",
       "ArrDelay             0.022069\n",
       "TaxiIn               0.021634\n",
       "ArrTime              0.021634\n",
       "TaxiOut              0.019553\n",
       "DepDelay             0.019437\n",
       "DepTime              0.019437\n",
       "TailNum              0.011893\n",
       "CRSElapsedTime       0.000120\n",
       "CRSArrTime           0.000000\n",
       "Month                0.000000\n",
       "DayofMonth           0.000000\n",
       "DayOfWeek            0.000000\n",
       "CRSDepTime           0.000000\n",
       "FlightNum            0.000000\n",
       "UniqueCarrier        0.000000\n",
       "Distance             0.000000\n",
       "Diverted             0.000000\n",
       "Cancelled            0.000000\n",
       "Origin               0.000000\n",
       "Dest                 0.000000\n",
       "Year                 0.000000\n",
       "dtype: float64"
      ]
     },
     "execution_count": 7,
     "metadata": {},
     "output_type": "execute_result"
    }
   ],
   "source": [
    "novo.sort_values(ascending=False) / 7009729"
   ]
  }
 ],
 "metadata": {
  "kernelspec": {
   "display_name": "Python 3",
   "language": "python",
   "name": "python3"
  },
  "language_info": {
   "codemirror_mode": {
    "name": "ipython",
    "version": 3
   },
   "file_extension": ".py",
   "mimetype": "text/x-python",
   "name": "python",
   "nbconvert_exporter": "python",
   "pygments_lexer": "ipython3",
   "version": "3.6.7"
  }
 },
 "nbformat": 4,
 "nbformat_minor": 2
}
