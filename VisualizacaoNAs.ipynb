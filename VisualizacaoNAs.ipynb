{
 "cells": [
  {
   "cell_type": "code",
   "execution_count": 1,
   "metadata": {},
   "outputs": [],
   "source": [
    "import pandas as pd"
   ]
  },
  {
   "cell_type": "code",
   "execution_count": 2,
   "metadata": {},
   "outputs": [],
   "source": [
    "ms = pd.read_csv('./2008.csv',low_memory=False)"
   ]
  },
  {
   "cell_type": "code",
   "execution_count": 6,
   "metadata": {},
   "outputs": [
    {
     "data": {
      "text/plain": [
       "CancellationCode     0.980394\n",
       "LateAircraftDelay    0.782483\n",
       "SecurityDelay        0.782483\n",
       "NASDelay             0.782483\n",
       "WeatherDelay         0.782483\n",
       "CarrierDelay         0.782483\n",
       "ActualElapsedTime    0.022069\n",
       "AirTime              0.022069\n",
       "ArrDelay             0.022069\n",
       "TaxiIn               0.021634\n",
       "ArrTime              0.021634\n",
       "TaxiOut              0.019553\n",
       "DepDelay             0.019437\n",
       "DepTime              0.019437\n",
       "TailNum              0.011893\n",
       "CRSElapsedTime       0.000120\n",
       "CRSArrTime           0.000000\n",
       "Month                0.000000\n",
       "DayofMonth           0.000000\n",
       "DayOfWeek            0.000000\n",
       "CRSDepTime           0.000000\n",
       "FlightNum            0.000000\n",
       "UniqueCarrier        0.000000\n",
       "Distance             0.000000\n",
       "Diverted             0.000000\n",
       "Cancelled            0.000000\n",
       "Origin               0.000000\n",
       "Dest                 0.000000\n",
       "Year                 0.000000\n",
       "dtype: float64"
      ]
     },
     "execution_count": 6,
     "metadata": {},
     "output_type": "execute_result"
    }
   ],
   "source": [
    "ms.isna().sum().sort_values(ascending=False) / ms.shape[0]"
   ]
  },
  {
   "cell_type": "code",
   "execution_count": 8,
   "metadata": {
    "scrolled": true
   },
   "outputs": [
    {
     "data": {
      "text/plain": [
       "Year                    1\n",
       "Month                  12\n",
       "DayofMonth             31\n",
       "DayOfWeek               7\n",
       "DepTime              1440\n",
       "CRSDepTime           1217\n",
       "ArrTime              1440\n",
       "CRSArrTime           1378\n",
       "UniqueCarrier          20\n",
       "FlightNum            7539\n",
       "TailNum              5373\n",
       "ActualElapsedTime     689\n",
       "CRSElapsedTime        525\n",
       "AirTime               663\n",
       "ArrDelay             1153\n",
       "DepDelay             1134\n",
       "Origin                303\n",
       "Dest                  304\n",
       "Distance             1435\n",
       "TaxiIn                190\n",
       "TaxiOut               342\n",
       "Cancelled               2\n",
       "CancellationCode        4\n",
       "Diverted                2\n",
       "CarrierDelay          984\n",
       "WeatherDelay          599\n",
       "NASDelay              574\n",
       "SecurityDelay         156\n",
       "LateAircraftDelay     564\n",
       "dtype: int64"
      ]
     },
     "execution_count": 8,
     "metadata": {},
     "output_type": "execute_result"
    }
   ],
   "source": [
    "ms.nunique()"
   ]
  },
  {
   "cell_type": "code",
   "execution_count": 11,
   "metadata": {},
   "outputs": [
    {
     "data": {
      "text/plain": [
       "0.0       854113\n",
       "6.0        22799\n",
       "7.0        21501\n",
       "1.0        21272\n",
       "2.0        20981\n",
       "15.0       20727\n",
       "3.0        20141\n",
       "5.0        19518\n",
       "8.0        19506\n",
       "4.0        19340\n",
       "10.0       18069\n",
       "9.0        18039\n",
       "16.0       17249\n",
       "17.0       15958\n",
       "11.0       14858\n",
       "18.0       14622\n",
       "12.0       14373\n",
       "20.0       14094\n",
       "19.0       13682\n",
       "13.0       13285\n",
       "14.0       12538\n",
       "21.0       11907\n",
       "22.0       10974\n",
       "23.0       10428\n",
       "25.0       10108\n",
       "24.0        9628\n",
       "26.0        8717\n",
       "27.0        8206\n",
       "28.0        7763\n",
       "30.0        7715\n",
       "           ...  \n",
       "870.0          1\n",
       "869.0          1\n",
       "624.0          1\n",
       "827.0          1\n",
       "831.0          1\n",
       "619.0          1\n",
       "834.0          1\n",
       "837.0          1\n",
       "838.0          1\n",
       "842.0          1\n",
       "845.0          1\n",
       "846.0          1\n",
       "847.0          1\n",
       "848.0          1\n",
       "849.0          1\n",
       "851.0          1\n",
       "852.0          1\n",
       "854.0          1\n",
       "613.0          1\n",
       "856.0          1\n",
       "858.0          1\n",
       "860.0          1\n",
       "861.0          1\n",
       "862.0          1\n",
       "863.0          1\n",
       "608.0          1\n",
       "607.0          1\n",
       "867.0          1\n",
       "868.0          1\n",
       "1542.0         1\n",
       "Name: CarrierDelay, Length: 984, dtype: int64"
      ]
     },
     "execution_count": 11,
     "metadata": {},
     "output_type": "execute_result"
    }
   ],
   "source": [
    "ms['CarrierDelay'].value_counts()"
   ]
  }
 ],
 "metadata": {
  "kernelspec": {
   "display_name": "Python 3",
   "language": "python",
   "name": "python3"
  },
  "language_info": {
   "codemirror_mode": {
    "name": "ipython",
    "version": 3
   },
   "file_extension": ".py",
   "mimetype": "text/x-python",
   "name": "python",
   "nbconvert_exporter": "python",
   "pygments_lexer": "ipython3",
   "version": "3.6.7"
  }
 },
 "nbformat": 4,
 "nbformat_minor": 2
}
