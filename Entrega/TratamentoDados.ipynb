{
 "cells": [
  {
   "cell_type": "code",
   "execution_count": 1,
   "metadata": {},
   "outputs": [],
   "source": [
    "import pandas as pd"
   ]
  },
  {
   "cell_type": "code",
   "execution_count": 3,
   "metadata": {},
   "outputs": [],
   "source": [
    "ms=pd.read_csv('./2008.csv',low_memory=False)"
   ]
  },
  {
   "cell_type": "markdown",
   "metadata": {},
   "source": [
    "### Variavéis a eliminar\n"
   ]
  },
  {
   "cell_type": "code",
   "execution_count": 7,
   "metadata": {},
   "outputs": [],
   "source": [
    "eliminar=['CancellationCode','TaxiIn','TaxiOut']"
   ]
  },
  {
   "cell_type": "code",
   "execution_count": 8,
   "metadata": {},
   "outputs": [],
   "source": [
    "ms.drop(eliminar, axis=1, inplace=True)"
   ]
  },
  {
   "cell_type": "code",
   "execution_count": 9,
   "metadata": {
    "scrolled": true
   },
   "outputs": [
    {
     "data": {
      "text/plain": [
       "LateAircraftDelay    0.782483\n",
       "NASDelay             0.782483\n",
       "WeatherDelay         0.782483\n",
       "CarrierDelay         0.782483\n",
       "SecurityDelay        0.782483\n",
       "AirTime              0.022069\n",
       "ActualElapsedTime    0.022069\n",
       "ArrDelay             0.022069\n",
       "ArrTime              0.021634\n",
       "DepTime              0.019437\n",
       "DepDelay             0.019437\n",
       "TailNum              0.011893\n",
       "CRSElapsedTime       0.000120\n",
       "Origin               0.000000\n",
       "Dest                 0.000000\n",
       "Distance             0.000000\n",
       "FlightNum            0.000000\n",
       "UniqueCarrier        0.000000\n",
       "CRSArrTime           0.000000\n",
       "Cancelled            0.000000\n",
       "CRSDepTime           0.000000\n",
       "Diverted             0.000000\n",
       "DayOfWeek            0.000000\n",
       "DayofMonth           0.000000\n",
       "Month                0.000000\n",
       "Year                 0.000000\n",
       "dtype: float64"
      ]
     },
     "execution_count": 9,
     "metadata": {},
     "output_type": "execute_result"
    }
   ],
   "source": [
    "ms.isna().sum().sort_values(ascending=False) / ms.shape[0]"
   ]
  },
  {
   "cell_type": "code",
   "execution_count": 10,
   "metadata": {},
   "outputs": [],
   "source": [
    "values = {'LateAircraftDelay': 0, 'NASDelay': 0, 'WeatherDelay': 0, 'CarrierDelay': 0, 'SecurityDelay':0}"
   ]
  },
  {
   "cell_type": "code",
   "execution_count": 11,
   "metadata": {},
   "outputs": [],
   "source": [
    "ms.fillna(values,inplace=True)"
   ]
  },
  {
   "cell_type": "code",
   "execution_count": 12,
   "metadata": {},
   "outputs": [],
   "source": [
    "novo = ms['FlightNum'].astype(str) + '::' + ms['Year'].astype(str) + '/' + ms['Month'].astype(str) + '/' + ms['DayofMonth'].astype(str)"
   ]
  },
  {
   "cell_type": "code",
   "execution_count": 14,
   "metadata": {},
   "outputs": [],
   "source": [
    "ms.drop(['FlightNum','Year','Month','DayofMonth'], axis=1, inplace=True)"
   ]
  },
  {
   "cell_type": "code",
   "execution_count": 15,
   "metadata": {},
   "outputs": [],
   "source": [
    "ms.insert(0, 'key', novo)"
   ]
  },
  {
   "cell_type": "code",
   "execution_count": 16,
   "metadata": {},
   "outputs": [],
   "source": [
    "ms['DestRep'] = ms['Dest']"
   ]
  },
  {
   "cell_type": "code",
   "execution_count": 18,
   "metadata": {},
   "outputs": [],
   "source": [
    "ms['DistanceRep'] = ms['Distance']\n",
    "ms['TailNumRep'] = ms['TailNum']"
   ]
  },
  {
   "cell_type": "code",
   "execution_count": 20,
   "metadata": {},
   "outputs": [],
   "source": [
    "ms.to_csv('final2',index=False)"
   ]
  }
 ],
 "metadata": {
  "kernelspec": {
   "display_name": "Python 3",
   "language": "python",
   "name": "python3"
  },
  "language_info": {
   "codemirror_mode": {
    "name": "ipython",
    "version": 3
   },
   "file_extension": ".py",
   "mimetype": "text/x-python",
   "name": "python",
   "nbconvert_exporter": "python",
   "pygments_lexer": "ipython3",
   "version": "3.6.7"
  }
 },
 "nbformat": 4,
 "nbformat_minor": 2
}
